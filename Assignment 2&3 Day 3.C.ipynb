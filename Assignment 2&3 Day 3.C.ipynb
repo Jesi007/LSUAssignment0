{
  "nbformat": 4,
  "nbformat_minor": 0,
  "metadata": {
    "colab": {
      "name": "Untitled2.ipynb",
      "provenance": []
    },
    "kernelspec": {
      "name": "python3",
      "display_name": "Python 3"
    }
  },
  "cells": [
    {
      "cell_type": "code",
      "metadata": {
        "id": "KAQyFl2-KK7-",
        "colab_type": "code",
        "colab": {
          "base_uri": "https://localhost:8080/",
          "height": 51
        },
        "outputId": "63be6b10-754a-48c0-efc8-19e5bd6d441e"
      },
      "source": [
        "'''You are a pilots,it is \"safe to land\" a plane,if it is 1000ft.\n",
        "If it is less than that,tell pilot to land the plane,or it is more than that but\n",
        "ask the pilot to \"bring down to 1000ft\" else it is more than 5000ft ask the pilot try again'''\n",
        "\n",
        "\n",
        "altitude=int(input(\"Enter the Altitude:\"))\n",
        "if(altitude<=1000):\n",
        "    print(\"Safe to Land\")\n",
        "elif(altitude>1000 & altitude<5000):\n",
        "    print(\"Bring to 1000feet\")\n",
        "elif(altitude>5000):\n",
        "    print(\"Turn Around and try later\")    \n"
      ],
      "execution_count": 2,
      "outputs": [
        {
          "output_type": "stream",
          "text": [
            "Enter the Altitude:1000\n",
            "Safe to Land\n"
          ],
          "name": "stdout"
        }
      ]
    },
    {
      "cell_type": "code",
      "metadata": {
        "id": "evUROQU4Mf35",
        "colab_type": "code",
        "colab": {
          "base_uri": "https://localhost:8080/",
          "height": 799
        },
        "outputId": "8cd9c444-76e3-47bc-96c2-8a5397f4de34"
      },
      "source": [
        "\n",
        "\n",
        "\n",
        "\n",
        "\n",
        "\n",
        "#Using for loop print all prime number between 1 and 200 along with range function\n",
        "\n",
        "for num in range(2,201):\n",
        "  for i in range(2,num):\n",
        "    if(num%i==0):\n",
        "      break\n",
        "  else:\n",
        "       print(num)    "
      ],
      "execution_count": 3,
      "outputs": [
        {
          "output_type": "stream",
          "text": [
            "2\n",
            "3\n",
            "5\n",
            "7\n",
            "11\n",
            "13\n",
            "17\n",
            "19\n",
            "23\n",
            "29\n",
            "31\n",
            "37\n",
            "41\n",
            "43\n",
            "47\n",
            "53\n",
            "59\n",
            "61\n",
            "67\n",
            "71\n",
            "73\n",
            "79\n",
            "83\n",
            "89\n",
            "97\n",
            "101\n",
            "103\n",
            "107\n",
            "109\n",
            "113\n",
            "127\n",
            "131\n",
            "137\n",
            "139\n",
            "149\n",
            "151\n",
            "157\n",
            "163\n",
            "167\n",
            "173\n",
            "179\n",
            "181\n",
            "191\n",
            "193\n",
            "197\n",
            "199\n"
          ],
          "name": "stdout"
        }
      ]
    },
    {
      "cell_type": "code",
      "metadata": {
        "id": "8vF-Zln9Nv-e",
        "colab_type": "code",
        "colab": {}
      },
      "source": [
        ""
      ],
      "execution_count": null,
      "outputs": []
    }
  ]
}