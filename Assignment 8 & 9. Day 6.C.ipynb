{
  "nbformat": 4,
  "nbformat_minor": 0,
  "metadata": {
    "colab": {
      "name": "Untitled6.ipynb",
      "provenance": []
    },
    "kernelspec": {
      "name": "python3",
      "display_name": "Python 3"
    }
  },
  "cells": [
    {
      "cell_type": "code",
      "metadata": {
        "id": "ALq1wu9Tr_zH",
        "colab_type": "code",
        "colab": {
          "base_uri": "https://localhost:8080/",
          "height": 612
        },
        "outputId": "d51039a4-7e7b-4999-c44d-9c58ccc9efdb"
      },
      "source": [
        "'''Create Bank Account class that has two attributes\n",
        "   * OwnerName\n",
        "   * Balance\n",
        "  and two methods\n",
        "   * Deposite\n",
        "   * Withdraw\n",
        "  as an added requirement. The withdraw amount should not exceed the available balance.\n",
        "  Instantiate your Class to make several deposites and withdraws and test to make sure that the account can't be overdrawn'''\n",
        "\n",
        "class bank:\n",
        "    def __init__(self,ownerName,balance):\n",
        "        self.ownerName=ownerName\n",
        "        self.balance=balance\n",
        "        \n",
        "    def deposite(self):\n",
        "        amount=int(input(\"Enter the amount to be deposited:\"))\n",
        "        self.balance+=amount\n",
        "        print(\"Your Balance is\",self.balance)\n",
        "        print(\"\\n\")\n",
        "        \n",
        "    def withdraw(self):\n",
        "        withdrawAmount=int(input(\"Enter the Amount to be withdrawn:\"))\n",
        "        print(\"Welcome, \",self.ownerName,\" !\")\n",
        "        if(self.balance<withdrawAmount):\n",
        "            print(\"Insufficient Balance\")\n",
        "            print(\"Thank you !\")\n",
        "            print(\"\\n\")\n",
        "        if(self.balance>=withdrawAmount):\n",
        "            self.balance-=withdrawAmount\n",
        "            print(\"Your Balance is\",self.balance)\n",
        "            print(\"Thank you !\")\n",
        "            print(\"\\n\")\n",
        "            \n",
        "print(\"\\t\\t\\t\\tWelcome to Banking\")\n",
        "name=input(\"Enter the Account Name:\")\n",
        "init_balance=int(input(\"Enter the Amount to be deposited initially:\"))\n",
        "b=bank(name,init_balance)\n",
        "c=int(input(\"What you like to do \\n1.Deposite Money \\n2.Withdraw Money \\n3.Exit \\nEnter your Choice:\"))\n",
        "print(\"\\n\")\n",
        "while(c<=3):\n",
        "      if(c==1):\n",
        "         b.deposite()\n",
        "         c=int(input(\"What you like to do \\n1.Deposite Money \\n2.Withdraw Money \\n3.Exit \\nEnter your Choice:\"))\n",
        "         print(\"\\n\")\n",
        "         continue\n",
        "      if(c==2):\n",
        "         b.withdraw()\n",
        "         c=int(input(\"What you like to do \\n1.Deposite Money \\n2.Withdraw Money \\n3.Exit \\nEnter your Choice:\"))\n",
        "         print(\"\\n\")\n",
        "         continue\n",
        "      if(c>=3):\n",
        "         print(\"Thank you ! Visit Again !\")\n",
        "         break"
      ],
      "execution_count": 1,
      "outputs": [
        {
          "output_type": "stream",
          "text": [
            "\t\t\t\tWelcome to Banking\n",
            "Enter the Account Name:Cerene\n",
            "Enter the Amount to be deposited initially:1000\n",
            "What you like to do \n",
            "1.Deposite Money \n",
            "2.Withdraw Money \n",
            "3.Exit \n",
            "Enter your Choice:1\n",
            "\n",
            "\n",
            "Enter the amount to be deposited:1000\n",
            "Your Balance is 2000\n",
            "\n",
            "\n",
            "What you like to do \n",
            "1.Deposite Money \n",
            "2.Withdraw Money \n",
            "3.Exit \n",
            "Enter your Choice:2\n",
            "\n",
            "\n",
            "Enter the Amount to be withdrawn:500\n",
            "Welcome,  Cerene  !\n",
            "Your Balance is 1500\n",
            "Thank you !\n",
            "\n",
            "\n",
            "What you like to do \n",
            "1.Deposite Money \n",
            "2.Withdraw Money \n",
            "3.Exit \n",
            "Enter your Choice:3\n",
            "\n",
            "\n",
            "Thank you ! Visit Again !\n"
          ],
          "name": "stdout"
        }
      ]
    },
    {
      "cell_type": "code",
      "metadata": {
        "id": "C_vlfwOdtM4P",
        "colab_type": "code",
        "colab": {
          "base_uri": "https://localhost:8080/",
          "height": 85
        },
        "outputId": "48c42d45-8085-482c-8eed-cb3396e9747f"
      },
      "source": [
        "import math\n",
        "from math import pi\n",
        "class cone:\n",
        "  def __init__(self,r,h,s):\n",
        "    self.r=radius\n",
        "    self.h=height\n",
        "    self.s=slantheight\n",
        "#volume of cone  \n",
        "  def volume(r, h): \n",
        "    v=(1/3) * (pi * r * r * h)\n",
        "    return v   \n",
        "# Surface Area of Cone \n",
        "  def surfacearea(r, s): \n",
        "    a=(pi * r * s) + (pi * r * r )\n",
        "    return a\n",
        "r=float(5)\n",
        "h=float(21)\n",
        "s=float(31)\n",
        "print(\"\\n\",round(cone.volume(r,h),2))\n",
        "print(\"\\n\",round(cone.surfacearea(r,s),2))"
      ],
      "execution_count": 2,
      "outputs": [
        {
          "output_type": "stream",
          "text": [
            "\n",
            " 549.78\n",
            "\n",
            " 565.49\n"
          ],
          "name": "stdout"
        }
      ]
    },
    {
      "cell_type": "code",
      "metadata": {
        "id": "neYjZMWmuY3T",
        "colab_type": "code",
        "colab": {}
      },
      "source": [
        ""
      ],
      "execution_count": null,
      "outputs": []
    }
  ]
}