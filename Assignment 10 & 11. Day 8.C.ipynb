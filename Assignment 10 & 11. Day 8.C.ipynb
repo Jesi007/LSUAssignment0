{
  "nbformat": 4,
  "nbformat_minor": 0,
  "metadata": {
    "colab": {
      "name": "Untitled7.ipynb",
      "provenance": []
    },
    "kernelspec": {
      "name": "python3",
      "display_name": "Python 3"
    }
  },
  "cells": [
    {
      "cell_type": "code",
      "metadata": {
        "id": "5C5Z5H_UvbC5",
        "colab_type": "code",
        "colab": {}
      },
      "source": [
        "#Decorators based problems\n",
        "\n",
        "def hai(hello):# getting one input using decorators\n",
        "    def func_in():\n",
        "        a=int(input(\"enter the input  :\"))\n",
        "        hello(a)\n",
        "    return func_in"
      ],
      "execution_count": 1,
      "outputs": []
    },
    {
      "cell_type": "code",
      "metadata": {
        "id": "1ZyGzHY0voAF",
        "colab_type": "code",
        "colab": {}
      },
      "source": [
        "@hai\n",
        "def fact(a):\n",
        "    if(a<0):\n",
        "        print(\"enter only positive number\")\n",
        "    elif(a==0 and a==1):\n",
        "        print(\"factorial of {}\".format(a))\n",
        "    else:\n",
        "        sum=1\n",
        "        print(\"factorial 0f {}\\n\".format(a))\n",
        "        for i in range(1,a+1):\n",
        "            sum=sum*i\n",
        "        print(sum)"
      ],
      "execution_count": 2,
      "outputs": []
    },
    {
      "cell_type": "code",
      "metadata": {
        "id": "Jn0cWr0Bv7bV",
        "colab_type": "code",
        "colab": {
          "base_uri": "https://localhost:8080/",
          "height": 85
        },
        "outputId": "e9701188-5057-4434-fde1-238b0376fdd3"
      },
      "source": [
        "fact()"
      ],
      "execution_count": 3,
      "outputs": [
        {
          "output_type": "stream",
          "text": [
            "enter the input  :4\n",
            "factorial 0f 4\n",
            "\n",
            "24\n"
          ],
          "name": "stdout"
        }
      ]
    },
    {
      "cell_type": "code",
      "metadata": {
        "id": "TmeYlhTYwE5G",
        "colab_type": "code",
        "colab": {}
      },
      "source": [
        "@hai\n",
        "def fibbonocii(n):\n",
        "    sum=0\n",
        "    a=-1\n",
        "    b=1\n",
        "    if(n<0):\n",
        "        print(\"enter only positive number\")\n",
        "    elif(n==0 or n==1):\n",
        "         print(n)\n",
        "    else:\n",
        "         for i in range(0,n+1,1):\n",
        "            sum=a+b\n",
        "            a=b\n",
        "            b=sum\n",
        "            print(sum)"
      ],
      "execution_count": 4,
      "outputs": []
    },
    {
      "cell_type": "code",
      "metadata": {
        "id": "fk__-zhOwaaJ",
        "colab_type": "code",
        "colab": {}
      },
      "source": [
        ""
      ],
      "execution_count": null,
      "outputs": []
    }
  ]
}