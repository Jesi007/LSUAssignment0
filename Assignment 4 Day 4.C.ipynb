{
  "nbformat": 4,
  "nbformat_minor": 0,
  "metadata": {
    "colab": {
      "name": "Untitled3.ipynb",
      "provenance": []
    },
    "kernelspec": {
      "name": "python3",
      "display_name": "Python 3"
    }
  },
  "cells": [
    {
      "cell_type": "code",
      "metadata": {
        "id": "fUQa8JLAAU4y",
        "colab_type": "code",
        "colab": {
          "base_uri": "https://localhost:8080/",
          "height": 34
        },
        "outputId": "3bd4c338-f643-4693-ae17-50fb63a800da"
      },
      "source": [
        "'''Use while loop to print the first Amrstrong in the range of 1042000 to 702648265 and exit the loop as soon\n",
        "as the first Armstrong number is encountered '''\n",
        "\n",
        "\n",
        "\n",
        "for num in range(1042000,702648265):\n",
        "    temp=num\n",
        "    sum_value=0\n",
        "    order=len(str(num))\n",
        "    while temp!=0:\n",
        "       digit=temp%10\n",
        "       sum_value+=digit**order\n",
        "       temp//=10\n",
        "    if sum_value==num:\n",
        "       print(num)\n",
        "       break"
      ],
      "execution_count": 1,
      "outputs": [
        {
          "output_type": "stream",
          "text": [
            "1741725\n"
          ],
          "name": "stdout"
        }
      ]
    },
    {
      "cell_type": "code",
      "metadata": {
        "id": "Z1mJtIjoChMM",
        "colab_type": "code",
        "colab": {}
      },
      "source": [
        ""
      ],
      "execution_count": null,
      "outputs": []
    }
  ]
}